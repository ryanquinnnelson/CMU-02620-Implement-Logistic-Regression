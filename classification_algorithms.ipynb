{
 "cells": [
  {
   "cell_type": "markdown",
   "id": "dental-blank",
   "metadata": {},
   "source": [
    "### Imports"
   ]
  },
  {
   "cell_type": "code",
   "execution_count": 1,
   "id": "quality-employee",
   "metadata": {},
   "outputs": [],
   "source": [
    "from math import exp\n",
    "import numpy as np\n",
    "import matplotlib.pyplot  as plt\n",
    "from sklearn.datasets import make_classification"
   ]
  },
  {
   "cell_type": "markdown",
   "id": "ambient-recorder",
   "metadata": {},
   "source": [
    "# 1. K-nearest Neighbor Classifier\n",
    "### 1.1. Model Definition\n",
    "Non-parametric, no model, no learning.\n",
    "\n",
    "- Given $X_{new}$, find its k-nearest neighbors according to some distance measure\n",
    "    - Euclidean distance: $(X_i-X_{new})^T(X_i-X_{new})$\n",
    "- Classify $X_{new}$ as the majority vote, based on the labels of these neighbors"
   ]
  },
  {
   "cell_type": "code",
   "execution_count": null,
   "id": "rough-treasurer",
   "metadata": {},
   "outputs": [],
   "source": []
  },
  {
   "cell_type": "markdown",
   "id": "statewide-factory",
   "metadata": {},
   "source": [
    "# 2. Naïve Bayes Classifier\n",
    "### 2.1. Model Definition\n",
    "Model assumes all features are conditionally independent.\n",
    "\n",
    "$$P(Y|X_1,\\ldots,X_n)=\\frac{P(Y)\\prod_{i=1}^n P(X_i|Y)}{P(X_1,\\dots,X_n)}$$\n",
    "\n",
    "\n",
    "where \n",
    "- $X$ is a feature for a given sample. \n",
    "- $n$ is the total number of samples.\n",
    "- $Y$ is the label for a given sample.\n",
    "\n",
    "\n",
    "#### Subcomponents\n",
    "\n",
    "\n",
    "$P(Y)=\\pi^Y(1-\\pi)^{1-Y}$\n",
    "\n",
    "where \n",
    "- $\\pi$ is a parameter defining $P(Y=1)$ and must be learned.\n",
    "\n",
    "***\n",
    "If $X_i$ is discrete, $P(X_i|Y)$ follows a Multinoulli distribution:\n",
    "\n",
    "$P(X_i=k|Y=j)=\\prod_k \\theta_{ijk}^{(1-\\delta(X_i,k))}$\n",
    "\n",
    "where \n",
    "- $\\delta(X_i,k)$ is an indicator function which takes value 1 if $X_i=k$ and value 0 otherwise.\n",
    "- $k$: The number of possible values for a given feature.\n",
    "***\n",
    "\n",
    "\n",
    "\n",
    "If $X_i$ is continuous, $P(X_i|Y)$ follows a Gaussian distribution:\n",
    "\n",
    "$P(X_i|Y)\\sim N(\\mu_i,\\sigma_i^2)$\n",
    "\n",
    "where \n",
    "- $\\mu_i$ and $\\sigma_i^2$ are parameters which must be learned. \n",
    "***\n",
    "$P(X_1,\\dots,X_n)$\n",
    "\n",
    "where\n",
    "\n",
    "$P(X_1,\\dots,X_n)=P(Y=0)\\sum_{i=1}^n P(X_i|Y=0)+P(Y=1)\\sum_{i=1}^n P(X_i|Y=1)$"
   ]
  },
  {
   "cell_type": "markdown",
   "id": "divine-johns",
   "metadata": {},
   "source": [
    "### 2.3. MLE for Naïve Bayes\n",
    "\n",
    "$$\\pi=\\frac{s_1}{n}$$\n",
    "\n",
    "where \n",
    "- $s_1$: number of samples with $Y=1$\n",
    "- $n$: total number of samples\n",
    "\n",
    "***\n",
    "\n",
    "$$\\theta_{ijk}=\\frac{s_{1,k}}{s_1}$$\n",
    "\n",
    "where\n",
    "- $s_{1,k}$: number of samples with $X_i=k,Y=1$"
   ]
  },
  {
   "cell_type": "code",
   "execution_count": 2,
   "id": "burning-convert",
   "metadata": {},
   "outputs": [],
   "source": [
    "# Given $X_{new}$:\n",
    "# - Compute $P(Y=1)\\prod_{i=1}^nP(X_j=X_{j_{new}}|Y=1)$\n",
    "# - Compute $P(Y=0)\\prod_{i=1}^nP(X_j=X_{j_{new}}|Y=0)$\n",
    "# - Classify $X_{new}$ as the label with the higher probability."
   ]
  },
  {
   "cell_type": "markdown",
   "id": "answering-accessory",
   "metadata": {},
   "source": [
    "### 2.4. MAP estimation for Naïve Bayes\n",
    "\n",
    "$$\\pi=\\frac{s_1+\\alpha_0}{n+\\alpha_0 + \\beta_0}$$\n",
    "\n",
    "where \n",
    "- $s_1$: number of samples with $Y=1$\n",
    "- $n$: total number of samples\n",
    "- $\\alpha_0$:\n",
    "- $\\beta_0$:\n",
    "\n",
    "***\n",
    "\n",
    "$$\\theta_{ijk}=\\frac{s_{1,k}+\\alpha_{ijk0}}{s_1+\\alpha_{ijk0}+\\beta_{ijk0}}$$\n",
    "\n",
    "where\n",
    "- $s_{1,k}$: number of samples with $X_i=k,Y=1$\n",
    "- $\\alpha_{ijk0}$:\n",
    "- $\\beta_{ijk0}$:"
   ]
  },
  {
   "cell_type": "code",
   "execution_count": null,
   "id": "threaded-amino",
   "metadata": {},
   "outputs": [],
   "source": []
  },
  {
   "cell_type": "markdown",
   "id": "tropical-sullivan",
   "metadata": {},
   "source": [
    "# 3. Logistic Regression\n",
    "### 3.1. Model Definition (two class)\n",
    "Transforms continuous value from linear regression into discrete values for output.\n",
    "\n",
    "$$P(Y=1|X=\\{X_1,\\ldots, X_n\\})=\\frac{1}{1+\\exp{(w_0 + \\sum_{i=1}^n w_iX_i)}}$$\n",
    "\n",
    "$$P(Y=0|X=\\{X_1,\\ldots, X_n\\})=\\frac{\\exp{(w_0 + \\sum_{i=1}^n w_iX_i)}}{1+\\exp{(w_0 + \\sum_{i=1}^n w_iX_i)}}$$"
   ]
  },
  {
   "cell_type": "markdown",
   "id": "working-acrobat",
   "metadata": {},
   "source": [
    "### 3.2. MCLE for Logistic Regression (two class)\n",
    "We want to use MCLE to learn the model parameters. MCLE cannot be solved in closed-form with respect to $W$.\n",
    "\n",
    "$$\\hat{W}_{MCLE}=\\underset{W}{argmax} \\prod_l P(Y^l|X^l,W)$$\n",
    "\n",
    "where\n",
    "- $l$: number of training examples"
   ]
  },
  {
   "cell_type": "markdown",
   "id": "defined-coffee",
   "metadata": {},
   "source": [
    "### 3.3. MCLE  for Logistic Regression (two class) with Gradient Descent\n",
    "Parameters can be derived using gradient descent because logistic regression is concave. Start with a random initialization of parameters. Repeat until the change is less than $\\epsilon$, that is, until $l(W)_t - l(W)_{t-1} < \\epsilon$.\n",
    "\n",
    "$$l(W)=\\sum_l Y^l(w_0+\\sum_i^n w_i X^l_i)-ln(1+exp(w_0+\\sum_i^n w_i X^l_i))$$\n",
    "\n",
    "$$w_i \\leftarrow w_i + \\eta \\nabla(W) $$\n",
    "\n",
    "where \n",
    "- $\\eta$ is step size (learning rate)\n",
    "- $X_i^l$: value of $X_i$ for the $l$th training example.\n",
    "- $\\nabla(W)$ is the gradient\n",
    "\n",
    "***\n",
    "\n",
    "#### Subcomponents\n",
    "\n",
    "$\\nabla(W)=\\frac{\\partial l(W)}{\\partial w_i}=\\sum_l X^l_i\\left(Y^l-\\hat{P}(Y^l=1|X^l,W)\\right)$\n",
    "\n",
    "where\n",
    "- $Y^l-\\hat{P}(Y^l=1|X^l,W)$ is the prediction error\n",
    "- $\\hat{P}(Y^l=1|X^l,W)=\\frac{exp(w_0+\\sum_iw_iX_i)}{1+exp(w_0+\\sum_iw_iX_i)}$\n",
    "\n",
    "\n",
    "According to Mitchell, we accommodate weight $w_0$ by assuming an imaginary $X_0=1$ for all $l$.\n",
    "***\n"
   ]
  },
  {
   "cell_type": "markdown",
   "id": "opposed-surgeon",
   "metadata": {},
   "source": [
    "Pattern for gradient:\n",
    "\n",
    "$$\\frac{\\partial l(W)}{\\partial w_0}=\\sum_l 1 (Y^l - P(Y^l=1|X^l,W))$$\n",
    "\n",
    "$$\\frac{\\partial l(W)}{\\partial w_1}=\\sum_l X_1^l (Y^l - P(Y^l=1|X^l,W))$$\n",
    "\n",
    "$$\\vdots$$\n",
    "\n",
    "$$\\frac{\\partial l(W)}{\\partial w_n}=\\sum_l X_n^l (Y^l - P(Y^l=1|X^l,W))$$"
   ]
  },
  {
   "cell_type": "code",
   "execution_count": 3,
   "id": "durable-veteran",
   "metadata": {},
   "outputs": [],
   "source": [
    "#?? need to mean center data?\n",
    "#?? when to add imaginary 1 row?\n",
    "#?? how to accommodate w_0? Assume extra x row of all 1's? best way?\n",
    "#?? log likelihood returns vector. how to compare vector difference vs epsilon?\n",
    "#?? how to set starting weights?\n",
    "#?? how to choose epsilon"
   ]
  },
  {
   "cell_type": "code",
   "execution_count": 31,
   "id": "literary-houston",
   "metadata": {},
   "outputs": [],
   "source": [
    "def gradient_descent(X,y_true,eta,epsilon,W):\n",
    "    '''\n",
    "    Performs gradient descent to derive regression coefficients.\n",
    "    '''\n",
    "    # set weights\n",
    "    weights = W\n",
    "    \n",
    "    \n",
    "    # append imaginary column X_0=1 to accommodate w_0\n",
    "    X_aug = add_X0(X) \n",
    "    print(X_aug)\n",
    "    \n",
    "    # calculate original log likelihood\n",
    "    prev_log_likelihood = calc_log_likelihood(X_aug,y_true,weights)\n",
    "    print('prev',prev_log_likelihood)\n",
    "    \n",
    "#     # perform gradient descent\n",
    "#     count = 0\n",
    "#     diff = np.Inf\n",
    "#     while diff > epsilon:\n",
    "    \n",
    "#         count += 1\n",
    "#         if count > 100000:\n",
    "#             break  # stop descending\n",
    "        \n",
    "#         # update weights\n",
    "#         y_pred = get_y_predictions(X_aug,weights)\n",
    "#         gradient = calc_gradient(X_aug,y_true,y_pred)\n",
    "#         weights = update_weights(weights,eta,gradient)\n",
    "\n",
    "#         # calculate difference\n",
    "#         log_likelihood = calc_log_likelihood(X_aug,y_true,weights)\n",
    "#         diff = prev_log_likelihood - log_likelihood\n",
    "# #         print(diff)\n",
    "#         diff = np.min(diff)  #??\n",
    "# #         print(diff)\n",
    "        \n",
    "#         # save log likelihood for next round\n",
    "#         prev_log_likelihood = log_likelihood\n",
    "        \n",
    "#     print('count of rounds',count)\n",
    "#     return weights   "
   ]
  },
  {
   "cell_type": "code",
   "execution_count": 53,
   "id": "measured-caution",
   "metadata": {},
   "outputs": [
    {
     "name": "stdout",
     "output_type": "stream",
     "text": [
      "test add_X0()\n",
      "test add_X0()\n"
     ]
    }
   ],
   "source": []
  },
  {
   "cell_type": "code",
   "execution_count": 51,
   "id": "noble-indianapolis",
   "metadata": {},
   "outputs": [
    {
     "name": "stdout",
     "output_type": "stream",
     "text": [
      "test calc_log_likelihood()\n",
      "ones [1. 1. 1.]\n",
      "XW [3.3 1.7 3.4]\n",
      "inner [4.3 2.7 4.4]\n"
     ]
    }
   ],
   "source": [
    "def calc_log_likelihood(X,y_true,W):\n",
    "    '''\n",
    "    Calculates log likelihood.\n",
    "    '''\n",
    "    \n",
    "    # left half\n",
    "    XW = np.matmul(X,W)\n",
    "    YXW = y_true + XW  # all L samples can be summed in parallel \n",
    "\n",
    "    # right half\n",
    "    num_rows = X.shape[0]\n",
    "    ones = np.ones(num_rows)  # create a vector of 1's\n",
    "    inner = ones + np.exp(XW)\n",
    "    ln_XW = np.log(inner)\n",
    "    print('ones',ones)\n",
    "    print('XW',XW)\n",
    "    print('inner',inner)\n",
    "    \n",
    "    return YXW - ln_XW\n",
    "\n",
    "print('test calc_log_likelihood()')\n",
    "X_test = np.array([[ .1, .5, .1 ,.1], \n",
    "              [ .1, .1, .1 ,.1], \n",
    "              [ .1, .1, .2 ,.3]])\n",
    "W_test = np.array([2,4,5,6])\n",
    "y_true_test = np.array([1,0,0])\n",
    "num_rows = X.shape[0]\n",
    "ones = np.ones(num_rows)\n",
    "\n",
    "expect_YXW = np.array([4.3, 1.7, 3.4])\n",
    "\n",
    "expect_inner = \n",
    "expected = expect_YXW - np.log(expect_inner)\n",
    "actual = calc_log_likelihood(X_test,y_true_test,W_test)\n",
    "np.testing.assert_allclose(actual,expected)  # rounding makes exact match impossible\n",
    "\n"
   ]
  },
  {
   "cell_type": "code",
   "execution_count": 7,
   "id": "pediatric-infrared",
   "metadata": {},
   "outputs": [
    {
     "name": "stdout",
     "output_type": "stream",
     "text": [
      "test get_y_prediction()\n"
     ]
    }
   ],
   "source": [
    "def get_y_prediction(X,W):\n",
    "    '''\n",
    "    Gets y predictions for one X_i.\n",
    "    Assumes \"imaginary\" X_0 = 1 for all samples has been added to the matrix.\n",
    "    '''\n",
    "\n",
    "    a = np.dot(X,W)\n",
    "    b = exp(a)\n",
    "    c = 1 + exp(a)\n",
    "\n",
    "    return b/c\n",
    "\n",
    "print('test get_y_prediction()')\n",
    "X = np.array([1,1,2])\n",
    "W = np.array([4,5,6])\n",
    "expected = 1318815734 / 1318815735\n",
    "actual = get_y_prediction(X,W)\n",
    "assert actual == expected"
   ]
  },
  {
   "cell_type": "code",
   "execution_count": 8,
   "id": "turned-teacher",
   "metadata": {},
   "outputs": [
    {
     "name": "stdout",
     "output_type": "stream",
     "text": [
      "test get_y_predictions()\n"
     ]
    }
   ],
   "source": [
    "def get_y_predictions(X,W):\n",
    "    '''\n",
    "    Gets y predictions for all samples.\n",
    "    Assumes \"imaginary\" X_0 = 1 for all samples has been added to the matrix.\n",
    "    '''\n",
    "    num_rows = X.shape[0]\n",
    "    XW = np.matmul(X,W)  # all L samples can be summed in parallel\n",
    "    top = np.exp(XW)\n",
    "    ones = np.ones(num_rows)  # create a vector of 1's\n",
    "    bottom = ones + top\n",
    "    return top / bottom\n",
    "        \n",
    "    \n",
    "print('test get_y_predictions()')\n",
    "X = np.array([[ .1, .5, .1 ,.1], \n",
    "              [ .1, .1, .1 ,.1], \n",
    "              [ .1, .1, .2 ,.3]])\n",
    "W = np.array([2,4,5,6])\n",
    "\n",
    "a = get_y_prediction(X[0],W)\n",
    "b = get_y_prediction(X[1],W)\n",
    "c = get_y_prediction(X[2],W)\n",
    "\n",
    "expected = [a,b,c]\n",
    "actual = get_y_predictions(X,W).tolist()\n",
    "assert actual==expected,actual"
   ]
  },
  {
   "cell_type": "code",
   "execution_count": 9,
   "id": "exterior-hours",
   "metadata": {},
   "outputs": [
    {
     "name": "stdout",
     "output_type": "stream",
     "text": [
      "test calc_gradient()\n"
     ]
    }
   ],
   "source": [
    "def calc_gradient(X,y_true,y_pred):\n",
    "    '''\n",
    "    Calculates the gradient.\n",
    "    Assumes \"imaginary\" X_0 = 1 for all samples has been added to the matrix.\n",
    "    \n",
    "    Args:\n",
    "        X: L x n matrix, where L is the number of samples and n is the number of features\n",
    "        y_true: L x 1 vector\n",
    "        y_pred: L x 1 vector\n",
    "        \n",
    "    Return:\n",
    "        Gradient in the form of an L x 1 vector\n",
    "    '''\n",
    "    y_err = y_true - y_pred\n",
    "    return np.matmul(X.T,y_err)\n",
    "\n",
    "'''\n",
    "Explanation of how the function works.\n",
    "\n",
    "X                y_err\n",
    "| 5 | 1 | 1 |    | 0 |\n",
    "| 1 | 1 | 1 |    |-1 |\n",
    "| 1 | 2 | 3 |    | 1 |\n",
    "\n",
    "Calculating the partial for the ith feature is the same as taking the dot product of the ith column of X and y_err.\n",
    "\n",
    "X_1         y_err\n",
    "|x11|       | y1 | \n",
    "|x21|  dot  | y2 | \n",
    "|x31|       | y3 |\n",
    "\n",
    "w_1 = (x11*y1) + (x21*y2) + (x31*y3)\n",
    "\n",
    "X_2         y_err\n",
    "|x12|       | y1 | \n",
    "|x22|  dot  | y2 | \n",
    "|x32|       | y3 |\n",
    "\n",
    "w_2 = (x12*y1) + (x22*y2) + (x32*y3)\n",
    "\n",
    "X_3         y_err\n",
    "|x13|       | y1 | \n",
    "|x23|  dot  | y2 | \n",
    "|x33|       | y3 |\n",
    "\n",
    "w_3 = (x13*y1) + (x23*y2) + (x33*y3)\n",
    "\n",
    "Instead of calculating partials one by one, we can perform matrix multiplication to do all at the same time. \n",
    "However, we need to transpose X first, because we want to perform column-wise multiplications.\n",
    "\n",
    "X              y_err\n",
    "|x11|x12|x13|  | y1 | \n",
    "|x21|x22|x23|  | y2 |\n",
    "|x31|x32|x33|  | y3 |\n",
    "\n",
    "(X)(y_err)\n",
    "| (x11*y1) + (x12*y2) + (x13*y3) |\n",
    "| (x21*y1) + (x22*y2) + (x23*y3) |\n",
    "| (x31*y1) + (x32*y2) + (x33*y3) |\n",
    "\n",
    "X_transpose    y_err\n",
    "|x11|x21|x31|  | y1 | \n",
    "|x12|x22|x32|  | y2 |\n",
    "|x13|x23|x33|  | y3 |\n",
    "\n",
    "W = (X_transpose)(y_err)\n",
    "| w1 |    | (x11*y1) + (x21*y2) + (x31*y3) |\n",
    "| w2 | =  | (x12*y1) + (x22*y2) + (x32*y3) |\n",
    "| w3 |    | (x13*y1) + (x23*y2) + (x33*y3) |\n",
    "'''\n",
    "\n",
    "print('test calc_gradient()')\n",
    "X = np.array([[ 1, 5, 1 ,1], \n",
    "              [ 1, 1, 1 ,1], \n",
    "              [ 1, 1, 2 ,3]])  # includes imaginary X_0=1 column\n",
    "y_true = np.array([1, 0, 1])\n",
    "y_pred = np.array([1, 1, 0])\n",
    "expected = np.array([0, 0, 1, 2]).tolist()\n",
    "actual = calc_gradient(X,y_true,y_pred).tolist()\n",
    "assert actual == expected"
   ]
  },
  {
   "cell_type": "code",
   "execution_count": 10,
   "id": "finnish-placement",
   "metadata": {},
   "outputs": [
    {
     "name": "stdout",
     "output_type": "stream",
     "text": [
      "test update_weights()\n"
     ]
    }
   ],
   "source": [
    "def update_weights(W,eta,gradient):\n",
    "    '''\n",
    "    W <- W + eta * gradient\n",
    "    '''\n",
    "    change = eta * gradient\n",
    "    return W + change\n",
    "\n",
    "print('test update_weights()')\n",
    "eta = 0.01\n",
    "gradient = np.array([1,-2,3])\n",
    "W = np.array([4,5,6])\n",
    "expected = [4.01,4.98,6.03]\n",
    "actual = update_weights(W,eta,gradient).tolist()\n",
    "assert actual == expected,actual"
   ]
  },
  {
   "cell_type": "code",
   "execution_count": 30,
   "id": "atomic-detection",
   "metadata": {},
   "outputs": [],
   "source": [
    "class LogisticRegression:\n",
    "    \n",
    "\n",
    "    "
   ]
  },
  {
   "cell_type": "code",
   "execution_count": 34,
   "id": "partial-detector",
   "metadata": {},
   "outputs": [
    {
     "data": {
      "image/png": "[encoded data removed]",
      "text/plain": [
       "<Figure size 432x288 with 1 Axes>"
      ]
     },
     "metadata": {
      "needs_background": "light"
     },
     "output_type": "display_data"
    },
    {
     "name": "stdout",
     "output_type": "stream",
     "text": [
      "[[-1.26027422  1.28265276]\n",
      " [-0.93884188 -0.96598454]\n",
      " [-0.3875902   0.99848772]\n",
      " [ 0.2593788  -0.88002654]\n",
      " [-0.42430349 -0.36606471]]\n",
      "[1 0 1 0 0]\n"
     ]
    }
   ],
   "source": [
    "X1, y1 = make_classification(n_features=2, n_redundant=0, n_informative=1,\n",
    "                             n_clusters_per_class=1)\n",
    "plt.scatter(X1[:, 0], X1[:, 1], marker='o', c=y1,\n",
    "            s=25, edgecolor='k')\n",
    "plt.show()\n",
    "print(X1[:5])\n",
    "print(y1[:5])"
   ]
  },
  {
   "cell_type": "code",
   "execution_count": 50,
   "id": "still-alcohol",
   "metadata": {},
   "outputs": [
    {
     "name": "stdout",
     "output_type": "stream",
     "text": [
      "[ 2.02237854 -0.90482642  2.61089752  0.37935226  0.2096318 ]\n"
     ]
    }
   ],
   "source": [
    "X1 = np.array([[-1.26027422,  1.28265276],\n",
    "                 [-0.93884188, -0.96598454],\n",
    "                 [-0.3875902,   0.99848772],\n",
    "                 [ 0.2593788,  -0.88002654],\n",
    "                 [-0.42430349, -0.36606471]])\n",
    "y1 = np.array([1, 0, 1, 0, 0])\n",
    "\n",
    "X1_aug = np.array([[ 1.,         -1.26027422,  1.28265276],\n",
    "                     [ 1. ,        -0.93884188, -0.96598454],\n",
    "                     [ 1.    ,     -0.3875902,   0.99848772],\n",
    "                     [ 1.   ,       0.2593788,  -0.88002654],\n",
    "                     [ 1.   ,      -0.42430349, -0.36606471]])\n",
    "W = np.ones(3)\n",
    "\n",
    "a = np.matmul(X1_aug,W)\n",
    "b = y1 + a\n",
    "print(b)"
   ]
  },
  {
   "cell_type": "code",
   "execution_count": 52,
   "id": "distant-shooting",
   "metadata": {},
   "outputs": [
    {
     "name": "stdout",
     "output_type": "stream",
     "text": [
      "[[ 1.         -1.26027422  1.28265276]\n",
      " [ 1.         -0.93884188 -0.96598454]\n",
      " [ 1.         -0.3875902   0.99848772]\n",
      " [ 1.          0.2593788  -0.88002654]\n",
      " [ 1.         -0.42430349 -0.36606471]]\n",
      "ones [1. 1. 1. 1. 1.]\n",
      "XW [ 1.02237854 -0.90482642  1.61089752  0.37935226  0.2096318 ]\n",
      "inner [2.02237854 0.09517358 2.61089752 1.37935226 1.2096318 ]\n",
      "prev [1.31810423 1.44722648 1.65120348 0.05773825 0.01931578]\n"
     ]
    },
    {
     "data": {
      "text/plain": [
       "<__main__.LogisticRegression at 0x7f83a61c2748>"
      ]
     },
     "execution_count": 52,
     "metadata": {},
     "output_type": "execute_result"
    }
   ],
   "source": [
    "lr = LogisticRegression(eta=0.01,epsilon=0.001)\n",
    "lr.fit(X1,y1)"
   ]
  },
  {
   "cell_type": "code",
   "execution_count": null,
   "id": "raising-london",
   "metadata": {},
   "outputs": [],
   "source": [
    "# graph line across data"
   ]
  },
  {
   "cell_type": "markdown",
   "id": "congressional-retirement",
   "metadata": {},
   "source": [
    "### 3.4. MAP estimation  for Logistic Regression (two class) with Gradient Descent\n",
    "Regularization term helps reduce overfitting, especially when training data is sparse.\n",
    "\n",
    "$$l(W)=?$$\n",
    "\n",
    "$$w_i \\leftarrow w_i -\\eta\\lambda w_i + \\eta \\sum_l X^l_i\\left(Y^l-\\hat{P}(Y^l=1|X^l,W)\\right) $$\n",
    "\n",
    "where\n",
    "- $\\lambda$ is a regularization term, $\\lambda=\\frac{1}{2\\sigma^2}$"
   ]
  },
  {
   "cell_type": "markdown",
   "id": "contemporary-stress",
   "metadata": {},
   "source": [
    "### 3.5. Model Definition (multiclass)\n",
    "Logistic Regression for more than two classes. Learn $R-1$ set of weights.\n",
    "\n",
    "For $k<R$:\n",
    "\n",
    "$$P(Y=y_k|X=\\{X_1,\\ldots, X_n\\})=\\frac{\\exp{(w_{k,0} + \\sum_{i=1}^n w_{k,i}X_i)}}{1+\\sum_{j=1}^{R-1}\\exp{(w_{j,0} + \\sum_{i=1}^n w_{ji}X_i)}}$$\n",
    "\n",
    "where\n",
    "- $R$: number of classes\n",
    "\n",
    "***\n",
    "\n",
    "For $k=R$:\n",
    "\n",
    "$$P(Y=y_R|X=\\{X_1,\\ldots, X_n\\})=\\frac{1}{1+\\sum_{j=1}^{R-1}\\exp{(w_{j,0} + \\sum_{i=1}^n w_{ji}X_i)}}$$"
   ]
  }
 ],
 "metadata": {
  "kernelspec": {
   "display_name": "Python 3",
   "language": "python",
   "name": "python3"
  },
  "language_info": {
   "codemirror_mode": {
    "name": "ipython",
    "version": 3
   },
   "file_extension": ".py",
   "mimetype": "text/x-python",
   "name": "python",
   "nbconvert_exporter": "python",
   "pygments_lexer": "ipython3",
   "version": "3.6.12"
  }
 },
 "nbformat": 4,
 "nbformat_minor": 5
}
