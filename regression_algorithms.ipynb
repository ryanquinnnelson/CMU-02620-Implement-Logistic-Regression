{
 "cells": [
  {
   "cell_type": "markdown",
   "id": "declared-principal",
   "metadata": {},
   "source": [
    "# 1. Univariate Regression\n",
    "### 1.1. Model Definition\n",
    "The model defines a linear relationship between a single feature and a real-valued label.\n",
    "\n",
    "$$y=\\beta_0+\\beta x+\\epsilon$$\n",
    "\n",
    "where \n",
    "- $\\beta_0$ is the intercept\n",
    "- $\\beta$ are regression coefficients\n",
    "- $\\epsilon \\sim N(0,\\sigma^2)$"
   ]
  },
  {
   "cell_type": "markdown",
   "id": "mathematical-ambassador",
   "metadata": {},
   "source": [
    "### 1.2. MCLE  for Univariate Regression (mean-centered)\n",
    "We fit the model without the intercept by using mean-centered data.\n",
    "\n",
    "$$\\hat{ \\beta}_{MCLE}=\\underset{\\beta}{argmin}\\sum_{i=1}^N(y_i - \\hat{y}_i)^2$$\n",
    "\n",
    "where $\\hat{y}_i=\\beta x_i$\n",
    "\n",
    "***\n",
    "\n",
    "$argmin$ can be solved in closed-form:\n",
    "\n",
    "$$\\hat{ \\beta}_{MCLE}=\\frac{\\sum_{i=1}^N x_iy_i}{\\sum_{i=1}^N (x_i)^2}$$\n"
   ]
  },
  {
   "cell_type": "code",
   "execution_count": 1,
   "id": "anticipated-latino",
   "metadata": {},
   "outputs": [],
   "source": [
    "class UnivariateRegression:\n",
    "        \n",
    "\n",
    "    def fit(self, X, y, mean_centered=True):\n",
    "        \"\"\"\n",
    "        Learns regression coefficient beta given X,y.\n",
    "\n",
    "        Args:\n",
    "            X: 1D data set\n",
    "\n",
    "            y: 1D label\n",
    "\n",
    "            mean_centered: True if data is mean-centered, False otherwise.\n",
    "\n",
    "        Return:\n",
    "            UnivariateRegression model.\n",
    "        \"\"\"\n",
    "        if mean_centered:\n",
    "            Xy_sum = np.dot(X.T,y).item(0)  \n",
    "            X_square_sum = np.dot(X.T,X).item(0)\n",
    "            beta = Xy_sum / X_square_sum\n",
    "        else:\n",
    "            raise NotImplementedError('mean_centered=False is not implemented.')\n",
    "\n",
    "        self.weights = beta\n",
    "        \n",
    "        return self\n"
   ]
  },
  {
   "cell_type": "markdown",
   "id": "lightweight-developer",
   "metadata": {},
   "source": [
    "\n",
    "# 2. Multivariate Regression\n",
    "\n",
    "### 2.1. Model Definition (augmented)\n",
    "The model defines a linear relationship between multiple features and a real-valued label. The augmented version moves $\\beta_0$ into the $\\beta$ vector.\n",
    "\n",
    "$$y=X^T\\beta  +\\epsilon$$\n",
    "\n",
    "where \n",
    "- $\\beta$ is a vector of regression coefficients, including the intercept $\\beta_0$\n",
    "- $\\epsilon \\sim N(0,\\sigma^2)$"
   ]
  },
  {
   "cell_type": "markdown",
   "id": "stable-vatican",
   "metadata": {},
   "source": [
    "### 2.2. MCLE for Multivariate Regression (augmented)\n",
    "\n",
    "$$\\hat{ \\beta}_{MCLE}=\\underset{\\beta}{argmin} \\left( y-X\\beta \\right)^T \\left( y-X\\beta \\right)$$\n",
    "\n",
    "\n",
    "***\n",
    "\n",
    "\n",
    "When $X$ is invertible, $argmin$ can be solved in closed-form:\n",
    "\n",
    "$$\\hat{ \\beta}_{MCLE}=(X^TX)^{-1}X^Ty$$"
   ]
  },
  {
   "cell_type": "markdown",
   "id": "fundamental-touch",
   "metadata": {},
   "source": [
    "###  2.3. MAP estimation for Multivariate Regression (mean-centered) (ridge)\n",
    "Also known as Ridge Regression, this method is used when $N<J$, where $N$ is the number of samples and $J$ is the the number of features. In this case, it is not possible to use MLE because the matrix $X^TX$ is not invertible. Instead, MAP estimation can be used. Note that no prior is placed on the intercept, so we assume that the data has been mean-centered.\n",
    "\n",
    "$$\\hat{ \\beta}_{MAP}=\\underset{\\beta}{argmin} \\left( \\left( y-X\\beta \\right)^T \\left( y-X\\beta \\right)+\\lambda\\beta^T\\beta\\right)$$\n",
    "\n",
    "where \n",
    "- $\\lambda$ is a regularization parameter, $\\lambda=\\frac{\\sigma^2}{\\sigma_0^2}$\n",
    "- $\\sigma^2$: variance of the data\n",
    "- $\\sigma_0^2$: variance of the prior\n",
    "\n",
    "***\n",
    "\n",
    "$argmin$ can be solved in closed-form:\n",
    "\n",
    "$$\\hat{ \\beta}_{MAP}=\\left( X^TX + \\lambda I \\right)^{-1} X^Ty$$\n",
    "\n"
   ]
  },
  {
   "cell_type": "code",
   "execution_count": 3,
   "id": "honest-citation",
   "metadata": {},
   "outputs": [],
   "source": [
    "class RidgeRegression:\n",
    "    \n",
    "    def __init__(self, l):\n",
    "        '''\n",
    "        Args:\n",
    "            l: regularization parameter lambda\n",
    "        '''\n",
    "        self.l = l\n",
    "    \n",
    "    def fit(self, X,y):\n",
    "        \"\"\"\n",
    "        Learns multivariate regression coefficients using ridge regression.\n",
    "\n",
    "        Args:\n",
    "            X: multivariate data set\n",
    "\n",
    "            y: 1D label\n",
    "\n",
    "        Return:\n",
    "            RidgeRegression model.\n",
    "        \"\"\"\n",
    "        cols = X.shape[1]\n",
    "\n",
    "        a = np.matmul(X.T,X)   \n",
    "        b = np.identity(cols)\n",
    "        c = np.multiply(self.l,b)\n",
    "        d = np.add(a,c)\n",
    "        e = np.linalg.inv(d)  # invert\n",
    "        f = np.matmul(e,X.T)\n",
    "        g = np.matmul(f,y)\n",
    "\n",
    "        self.weights = g\n",
    "        \n",
    "        return self\n"
   ]
  },
  {
   "cell_type": "markdown",
   "id": "preliminary-shoot",
   "metadata": {},
   "source": [
    "### 2.4. MAP Estimation for Multivariate Regression  (lasso)\n",
    "Sparse regression\n",
    "\n",
    "$$\\hat{ \\beta}_{MAP}=\\underset{\\beta}{argmin} \\left( \\left( y-X\\beta \\right)^T \\left( y-X\\beta \\right)+\\lambda \\sum_{i=1}^J |\\beta_i|\\right)$$\n",
    "\n",
    "where \n",
    "- $\\lambda$ is a regularization parameter, $\\lambda=\\frac{\\sigma^2}{\\sigma_0^2}$\n",
    "- $\\sigma^2$: variance of the data\n",
    "- $\\sigma_0^2$: variance of the prior\n",
    "- $|\\beta_i|$: absolute value of each of the weights\n"
   ]
  }
 ],
 "metadata": {
  "kernelspec": {
   "display_name": "Python 3",
   "language": "python",
   "name": "python3"
  },
  "language_info": {
   "codemirror_mode": {
    "name": "ipython",
    "version": 3
   },
   "file_extension": ".py",
   "mimetype": "text/x-python",
   "name": "python",
   "nbconvert_exporter": "python",
   "pygments_lexer": "ipython3",
   "version": "3.6.12"
  }
 },
 "nbformat": 4,
 "nbformat_minor": 5
}
